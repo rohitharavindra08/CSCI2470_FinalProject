{
 "cells": [
  {
   "cell_type": "code",
   "execution_count": null,
   "id": "9e76ad9d-4e92-4a25-a54c-136a319ceab0",
   "metadata": {},
   "outputs": [],
   "source": [
    "from utils import create_input_files\n",
    "import argparse\n",
    "import os\n",
    "\n",
    "if __name__ == '__main__':\n",
    "    parser = argparse.ArgumentParser(description='Create input files')\n",
    "\n",
    "    parser.add_argument('--dataset', '-d', default='coco', help='dataset')\n",
    "    parser.add_argument('--img_folder', '-i', default='/Users/rohitharavindramyla/Desktop/CSCI2470_Project/images', help='path to image')\n",
    "    parser.add_argument('--caption_folder', '-cf', default='/Users/rohitharavindramyla/Desktop/CSCI2470_Project/captions', help='path to captions')\n",
    "\n",
    "    args = parser.parse_args()\n",
    "\n",
    "    # Create input files (along with word map)\n",
    "    create_input_files(dataset=args.dataset,\n",
    "                       karpathy_json_path=os.path.join(args.caption_folder, 'dataset_{:s}.json'.format(args.dataset)),\n",
    "                       image_folder=args.img_folder,\n",
    "                       captions_per_image=5,\n",
    "                       min_word_freq=5,\n",
    "                       output_folder='/Users/rohitharavindramyla/Desktop/CSCI2470_Project/output',\n",
    "                       max_len=50)\n"
   ]
  },
  {
   "cell_type": "code",
   "execution_count": null,
   "id": "b7c0f3f6-1ceb-48f1-b72e-8272a791baf2",
   "metadata": {},
   "outputs": [],
   "source": []
  }
 ],
 "metadata": {
  "kernelspec": {
   "display_name": "CSCI2470",
   "language": "python",
   "name": "csci2470"
  },
  "language_info": {
   "codemirror_mode": {
    "name": "ipython",
    "version": 3
   },
   "file_extension": ".py",
   "mimetype": "text/x-python",
   "name": "python",
   "nbconvert_exporter": "python",
   "pygments_lexer": "ipython3",
   "version": "3.12.7"
  }
 },
 "nbformat": 4,
 "nbformat_minor": 5
}
